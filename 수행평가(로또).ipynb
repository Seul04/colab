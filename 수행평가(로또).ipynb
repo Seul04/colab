{
  "nbformat": 4,
  "nbformat_minor": 0,
  "metadata": {
    "colab": {
      "provenance": [],
      "authorship_tag": "ABX9TyP5l/3umB36MJO3h3yksNVq",
      "include_colab_link": true
    },
    "kernelspec": {
      "name": "python3",
      "display_name": "Python 3"
    },
    "language_info": {
      "name": "python"
    }
  },
  "cells": [
    {
      "cell_type": "markdown",
      "metadata": {
        "id": "view-in-github",
        "colab_type": "text"
      },
      "source": [
        "<a href=\"https://colab.research.google.com/github/Seul04/colab/blob/main/%EC%88%98%ED%96%89%ED%8F%89%EA%B0%80(%EB%A1%9C%EB%98%90).ipynb\" target=\"_parent\"><img src=\"https://colab.research.google.com/assets/colab-badge.svg\" alt=\"Open In Colab\"/></a>"
      ]
    },
    {
      "cell_type": "markdown",
      "source": [
        "**오늘의 로또 번호**"
      ],
      "metadata": {
        "id": "hmiBrXMj5BLQ"
      }
    },
    {
      "cell_type": "code",
      "execution_count": 8,
      "metadata": {
        "colab": {
          "base_uri": "https://localhost:8080/"
        },
        "id": "Eq_AAxVJ5Aq3",
        "outputId": "ff34f291-e978-42d5-969c-9330b82fe3e8"
      },
      "outputs": [
        {
          "output_type": "stream",
          "name": "stdout",
          "text": [
            "**로또 번호를 추첨합니다.**\n",
            "오늘의 로또 번호 == >  [10, 11, 43, 1, 12, 30]\n"
          ]
        }
      ],
      "source": [
        "import random\n",
        "lotto_num = []\n",
        "def lotto() :\n",
        "  for i in range(6) :\n",
        "    lotto_num.append(random.randint(1,45))\n",
        "  return lotto_num\n",
        "\n",
        "print(\"** 로또 번호를 추첨합니다. **\" )\n",
        "print(\"오늘의 로또 번호 == > \", lotto())"
      ]
    },
    {
      "cell_type": "markdown",
      "source": [
        "**중복되지 않는 로또 번호**"
      ],
      "metadata": {
        "id": "2fLzMv_q8XXD"
      }
    },
    {
      "cell_type": "code",
      "source": [
        "import random\n",
        "lotto_num = []\n",
        "def lotto() :\n",
        "  while True :\n",
        "    num = random.randint(1,45)\n",
        "    if num in lotto_num :\n",
        "      num = random.randint(1,45)\n",
        "    else :\n",
        "      lotto_num.append(num)\n",
        "    if len(lotto_num) == 6 :\n",
        "      break\n",
        "  return lotto_num\n",
        "\n",
        "print(\"** 로또 번호를 추첨합니다. **\" )\n",
        "print(\"오늘의 로또 번호 == > \", lotto())"
      ],
      "metadata": {
        "colab": {
          "base_uri": "https://localhost:8080/"
        },
        "id": "vlamccAU7w0N",
        "outputId": "dcc17e8a-8526-4a54-c28a-74fa42c107a2"
      },
      "execution_count": 6,
      "outputs": [
        {
          "output_type": "stream",
          "name": "stdout",
          "text": [
            "** 로또 번호를 추첨합니다. **\n",
            "오늘의 로또 번호 == >  [21, 45, 33, 25, 2, 19]\n"
          ]
        }
      ]
    }
  ]
}