{
  "nbformat": 4,
  "nbformat_minor": 0,
  "metadata": {
    "colab": {
      "provenance": [],
      "authorship_tag": "ABX9TyNYgMv3kzmrXWtA+Lnkn/8P",
      "include_colab_link": true
    },
    "kernelspec": {
      "name": "python3",
      "display_name": "Python 3"
    },
    "language_info": {
      "name": "python"
    }
  },
  "cells": [
    {
      "cell_type": "markdown",
      "metadata": {
        "id": "view-in-github",
        "colab_type": "text"
      },
      "source": [
        "<a href=\"https://colab.research.google.com/github/Seul04/colab/blob/main/%EC%88%98%ED%96%89%ED%8F%89%EA%B0%80(4).ipynb\" target=\"_parent\"><img src=\"https://colab.research.google.com/assets/colab-badge.svg\" alt=\"Open In Colab\"/></a>"
      ]
    },
    {
      "cell_type": "markdown",
      "source": [
        "**문제 (1)**"
      ],
      "metadata": {
        "id": "k4RvKobljAiR"
      }
    },
    {
      "cell_type": "code",
      "execution_count": 4,
      "metadata": {
        "colab": {
          "base_uri": "https://localhost:8080/"
        },
        "id": "HSVAur58cw4_",
        "outputId": "03682f61-0dd2-444d-fa1e-8608d1fa169e"
      },
      "outputs": [
        {
          "output_type": "stream",
          "name": "stdout",
          "text": [
            "1 X 1 = 1\n",
            "1 X 2 = 4\n",
            "1 X 3 = 9\n",
            "1 X 4 = 16\n",
            "1 X 5 = 25\n",
            "1 X 6 = 36\n",
            "1 X 7 = 49\n",
            "1 X 8 = 64\n",
            "1 X 9 = 81\n",
            "\n",
            "2 X 1 = 1\n",
            "2 X 2 = 4\n",
            "2 X 3 = 9\n",
            "2 X 4 = 16\n",
            "2 X 5 = 25\n",
            "2 X 6 = 36\n",
            "2 X 7 = 49\n",
            "2 X 8 = 64\n",
            "2 X 9 = 81\n",
            "\n",
            "3 X 1 = 1\n",
            "3 X 2 = 4\n",
            "3 X 3 = 9\n",
            "3 X 4 = 16\n",
            "3 X 5 = 25\n",
            "3 X 6 = 36\n",
            "3 X 7 = 49\n",
            "3 X 8 = 64\n",
            "3 X 9 = 81\n",
            "\n",
            "4 X 1 = 1\n",
            "4 X 2 = 4\n",
            "4 X 3 = 9\n",
            "4 X 4 = 16\n",
            "4 X 5 = 25\n",
            "4 X 6 = 36\n",
            "4 X 7 = 49\n",
            "4 X 8 = 64\n",
            "4 X 9 = 81\n",
            "\n",
            "5 X 1 = 1\n",
            "5 X 2 = 4\n",
            "5 X 3 = 9\n",
            "5 X 4 = 16\n",
            "5 X 5 = 25\n",
            "5 X 6 = 36\n",
            "5 X 7 = 49\n",
            "5 X 8 = 64\n",
            "5 X 9 = 81\n",
            "\n",
            "6 X 1 = 1\n",
            "6 X 2 = 4\n",
            "6 X 3 = 9\n",
            "6 X 4 = 16\n",
            "6 X 5 = 25\n",
            "6 X 6 = 36\n",
            "6 X 7 = 49\n",
            "6 X 8 = 64\n",
            "6 X 9 = 81\n",
            "\n",
            "7 X 1 = 1\n",
            "7 X 2 = 4\n",
            "7 X 3 = 9\n",
            "7 X 4 = 16\n",
            "7 X 5 = 25\n",
            "7 X 6 = 36\n",
            "7 X 7 = 49\n",
            "7 X 8 = 64\n",
            "7 X 9 = 81\n",
            "\n",
            "8 X 1 = 1\n",
            "8 X 2 = 4\n",
            "8 X 3 = 9\n",
            "8 X 4 = 16\n",
            "8 X 5 = 25\n",
            "8 X 6 = 36\n",
            "8 X 7 = 49\n",
            "8 X 8 = 64\n",
            "8 X 9 = 81\n",
            "\n",
            "9 X 1 = 1\n",
            "9 X 2 = 4\n",
            "9 X 3 = 9\n",
            "9 X 4 = 16\n",
            "9 X 5 = 25\n",
            "9 X 6 = 36\n",
            "9 X 7 = 49\n",
            "9 X 8 = 64\n",
            "9 X 9 = 81\n",
            "\n"
          ]
        }
      ],
      "source": [
        "j = 0\n",
        "j = 0\n",
        "\n",
        "for i in range(1, 10) :\n",
        "  for j in range(1, 10) :\n",
        "    print(i, 'X', j, \"=\", j * j)\n",
        "  print(\"\")"
      ]
    },
    {
      "cell_type": "markdown",
      "source": [
        "**문제 (2)**"
      ],
      "metadata": {
        "id": "LZV7tHmCjEnP"
      }
    },
    {
      "cell_type": "code",
      "source": [
        "hap, i=0,0\n",
        "\n",
        "for i in range(1,101) :\n",
        "    if i  % 4==0 :\n",
        "        continue\n",
        "\n",
        "    hap+=i\n",
        "\n",
        "\n",
        "print(\"1~100의 합계(4의 배수 제외) : %d\" % hap)"
      ],
      "metadata": {
        "colab": {
          "base_uri": "https://localhost:8080/"
        },
        "id": "kWmp2vIIiK-n",
        "outputId": "1d543b87-3556-471d-ac08-c570f9def189"
      },
      "execution_count": 6,
      "outputs": [
        {
          "output_type": "stream",
          "name": "stdout",
          "text": [
            "1~100의 합계(4의 배수 제외) : 3750\n"
          ]
        }
      ]
    },
    {
      "cell_type": "markdown",
      "source": [
        "**문제 (3)**"
      ],
      "metadata": {
        "id": "aPuJYAPknG6X"
      }
    },
    {
      "cell_type": "code",
      "source": [
        "import random\n",
        "\n",
        "count = 0\n",
        "dice1, dice2, dice3 = 0,0,0\n",
        "\n",
        "while True :\n",
        "  count +- 1\n",
        "  dice1 = random.randint(1, 6)\n",
        "  dice2 = random.randint(1, 6)\n",
        "  dice3 = random.randint(1, 6)\n",
        "\n",
        "  if (dice1 == dice2 == dice3) :\n",
        "    break\n",
        "\n",
        "print(\"3개의 주사위는 모두\", dice1, \"입니다.\")\n",
        "print(\"같은 숫자가 나오기까지\", count, \"번 던졌습ㄴ디ㅏ.\")"
      ],
      "metadata": {
        "colab": {
          "base_uri": "https://localhost:8080/"
        },
        "id": "uhw6EPj0j8T9",
        "outputId": "bf73dcdf-8912-465a-d23d-97ab7d36d946"
      },
      "execution_count": 8,
      "outputs": [
        {
          "output_type": "stream",
          "name": "stdout",
          "text": [
            "3개의 주사위는 모두 5 입니다.\n",
            "같은 숫자가 나오기까지 0 번 던졌습ㄴ디ㅏ.\n"
          ]
        }
      ]
    },
    {
      "cell_type": "markdown",
      "source": [
        "**문제 (4)**"
      ],
      "metadata": {
        "id": "kxiSkJcynRA3"
      }
    },
    {
      "cell_type": "code",
      "source": [],
      "metadata": {
        "id": "yLcig6USnT5f"
      },
      "execution_count": null,
      "outputs": []
    }
  ]
}