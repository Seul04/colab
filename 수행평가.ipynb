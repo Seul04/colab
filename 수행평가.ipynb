{
  "nbformat": 4,
  "nbformat_minor": 0,
  "metadata": {
    "colab": {
      "provenance": [],
      "authorship_tag": "ABX9TyMxJ5VpfIlr+FqzZWMQRGI5",
      "include_colab_link": true
    },
    "kernelspec": {
      "name": "python3",
      "display_name": "Python 3"
    },
    "language_info": {
      "name": "python"
    }
  },
  "cells": [
    {
      "cell_type": "markdown",
      "metadata": {
        "id": "view-in-github",
        "colab_type": "text"
      },
      "source": [
        "<a href=\"https://colab.research.google.com/github/Seul04/colab/blob/main/%EC%88%98%ED%96%89%ED%8F%89%EA%B0%80.ipynb\" target=\"_parent\"><img src=\"https://colab.research.google.com/assets/colab-badge.svg\" alt=\"Open In Colab\"/></a>"
      ]
    },
    {
      "cell_type": "code",
      "source": [
        "text = \"Python\"\n",
        "change_text = text[0]. lower() + text[1]. upper() + text[2].upper() + text[3].upper() + \\\n",
        "text[4]. upper() + text[5]. upper() \n",
        "print(\"원본 문자열은 ==> \", text)\n",
        "print(\"원본 문자열은 ==> \", change_text)"
      ],
      "metadata": {
        "colab": {
          "base_uri": "https://localhost:8080/"
        },
        "id": "oK9f4OeJkxln",
        "outputId": "048bba5a-3994-45d5-968c-761930971fa4"
      },
      "execution_count": null,
      "outputs": [
        {
          "output_type": "stream",
          "name": "stdout",
          "text": [
            "원본 문자열은 ==>  Python\n",
            "원본 문자열은 ==>  pYTHON\n"
          ]
        }
      ]
    },
    {
      "cell_type": "code",
      "source": [
        "singer = input(\"가수 이름을 입력 : \")\n",
        "singer_length = len(singer)\n",
        "#print(singer_lenth)\n",
        "r_singer= \"\"\n",
        "while singer_length > 0 :\n",
        "  r_singer = r_singer + singer[singer_length-1]\n",
        "  singer_length = singer_length -1\n",
        "print(r_singer)"
      ],
      "metadata": {
        "id": "JErnVnukn7PK",
        "colab": {
          "base_uri": "https://localhost:8080/"
        },
        "outputId": "258cf998-0006-48a9-c20d-4c76bf4f598e"
      },
      "execution_count": 4,
      "outputs": [
        {
          "output_type": "stream",
          "name": "stdout",
          "text": [
            "가수 이름을 입력 : 트와이스\n",
            "스이와트\n"
          ]
        }
      ]
    }
  ]
}