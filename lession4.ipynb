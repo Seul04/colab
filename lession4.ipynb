{
  "nbformat": 4,
  "nbformat_minor": 0,
  "metadata": {
    "colab": {
      "name": "lession4.ipynb",
      "provenance": [],
      "authorship_tag": "ABX9TyP3lS2Tk7SlDkQPbsb+cpeB",
      "include_colab_link": true
    },
    "kernelspec": {
      "name": "python3",
      "display_name": "Python 3"
    },
    "language_info": {
      "name": "python"
    }
  },
  "cells": [
    {
      "cell_type": "markdown",
      "metadata": {
        "id": "view-in-github",
        "colab_type": "text"
      },
      "source": [
        "<a href=\"https://colab.research.google.com/github/Seul04/colab/blob/main/lession4.ipynb\" target=\"_parent\"><img src=\"https://colab.research.google.com/assets/colab-badge.svg\" alt=\"Open In Colab\"/></a>"
      ]
    },
    {
      "cell_type": "markdown",
      "source": [
        "3장 연산자 \n",
        "형성평가-파운드를 킬로그램으로 변경"
      ],
      "metadata": {
        "id": "Z57cMByEzdqr"
      }
    },
    {
      "cell_type": "code",
      "execution_count": 2,
      "metadata": {
        "colab": {
          "base_uri": "https://localhost:8080/"
        },
        "id": "HEXZe8DXvsgO",
        "outputId": "bd11fc75-8969-48b9-81e4-26248fe474af"
      },
      "outputs": [
        {
          "output_type": "stream",
          "name": "stdout",
          "text": [
            "파운드를 입력하시오 : 15\n",
            "15.0 파운드는 6.804 킬로그램입니다.\n",
            "킬로그램을 입력하세요 : 15\n",
            "15.0 킬로그램은 33.069 파운드입니다. \n"
          ]
        }
      ],
      "source": [
        "pound = float(input(\"파운드를 입력하시오 : \"))\n",
        "kg = pound * 0.453592\n",
        "print(pound, \"파운드는\", round(kg, 3), \"킬로그램입니다.\")\n",
        "kg = float(input(\"킬로그램을 입력하세요 : \"))\n",
        "pound = kg * 2.204623\n",
        "print(kg, \"킬로그램은\" , round(pound, 3), \"파운드입니다. \")"
      ]
    }
  ]
}