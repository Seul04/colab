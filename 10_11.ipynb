{
  "nbformat": 4,
  "nbformat_minor": 0,
  "metadata": {
    "colab": {
      "provenance": [],
      "authorship_tag": "ABX9TyMzVkFEiAeg/CRfPTGIAc3U",
      "include_colab_link": true
    },
    "kernelspec": {
      "name": "python3",
      "display_name": "Python 3"
    },
    "language_info": {
      "name": "python"
    }
  },
  "cells": [
    {
      "cell_type": "markdown",
      "metadata": {
        "id": "view-in-github",
        "colab_type": "text"
      },
      "source": [
        "<a href=\"https://colab.research.google.com/github/Seul04/colab/blob/main/10_11.ipynb\" target=\"_parent\"><img src=\"https://colab.research.google.com/assets/colab-badge.svg\" alt=\"Open In Colab\"/></a>"
      ]
    },
    {
      "cell_type": "markdown",
      "source": [
        "**시간표현하기**"
      ],
      "metadata": {
        "id": "mtZU6miIbjsh"
      }
    },
    {
      "cell_type": "code",
      "execution_count": 1,
      "metadata": {
        "colab": {
          "base_uri": "https://localhost:8080/"
        },
        "id": "O-vjHPZMZ2es",
        "outputId": "b9090ece-7831-47f0-97bb-8f8f48065213"
      },
      "outputs": [
        {
          "output_type": "stream",
          "name": "stdout",
          "text": [
            "283090889.0\n"
          ]
        }
      ],
      "source": [
        "import time\n",
        "from datetime import datetime\n",
        "\n",
        "s = '1978-12-21 12:21:29'\n",
        "timestamp = time.mktime(datetime.strptime(s, '%Y-%m-%d %H:%M:%S').timetuple())\n",
        "print(timestamp)"
      ]
    },
    {
      "cell_type": "markdown",
      "source": [
        "**앞으로 남은 학교생활**"
      ],
      "metadata": {
        "id": "-LVCKYGyed5v"
      }
    },
    {
      "cell_type": "code",
      "source": [
        "import time\n",
        "from datetime import datetime\n",
        "\n",
        "now = '2022-10-11'\n",
        "after = '2023-02-18'\n",
        "\n",
        "tn = time.mktime(datetime.strptime(now, '%Y-%m-%d').timetuple())\n",
        "ta = time.mktime(datetime.strptime(after, '%Y-%m-%d').timetuple())\n",
        "dday = ta - tn\n",
        "dday = dday / (24*60*60)\n",
        "print(\"졸업까지 dday\", dday)"
      ],
      "metadata": {
        "colab": {
          "base_uri": "https://localhost:8080/"
        },
        "id": "pMcFdDEbb6ip",
        "outputId": "e1f07d0b-0511-4a35-ecac-1be9328db153"
      },
      "execution_count": 3,
      "outputs": [
        {
          "output_type": "stream",
          "name": "stdout",
          "text": [
            "졸업까지 dday 130.0\n"
          ]
        }
      ]
    },
    {
      "cell_type": "markdown",
      "source": [
        "**비밀번호 생성하기**"
      ],
      "metadata": {
        "id": "QLld8W7-g20q"
      }
    },
    {
      "cell_type": "code",
      "source": [
        "def passwd_check(passwd) :\n",
        "  if  len(passwd) >= 8 :\n",
        "    print(\"8자리 이상\")\n",
        "  else :\n",
        "    print(\"오류! 비밀번호가 규칙에 맞지 않습니다.\")\n",
        "\n",
        "passwd = input(\"새로운 비밀번호를 입력하세요 :\")\n",
        "\n",
        "passwd_check(passwd)"
      ],
      "metadata": {
        "colab": {
          "base_uri": "https://localhost:8080/"
        },
        "id": "49nGeCVyg145",
        "outputId": "0279440c-7c95-4af8-feee-b879ae6edaf1"
      },
      "execution_count": 5,
      "outputs": [
        {
          "output_type": "stream",
          "name": "stdout",
          "text": [
            "새로운 비밀번호를 입력하세요 :abcd\n",
            "오류! 비밀번호가 규칙에 맞지 않습니다.\n"
          ]
        }
      ]
    },
    {
      "cell_type": "code",
      "source": [
        "def passwd_check(passwd) :\n",
        "  if  len(passwd) >= 8 and passwd.isalnum():\n",
        "    print(\"Good~ , 비밀번호가 올바르게 생성되었습니다.\")\n",
        "  else :\n",
        "    print(\"오류! 비밀번호가 규칙에 맞지 않습니다.\")\n",
        "\n",
        "passwd = input(\"새로운 비밀번호를 입력하세요 : \")\n",
        "\n",
        "passwd_check(passwd)"
      ],
      "metadata": {
        "colab": {
          "base_uri": "https://localhost:8080/"
        },
        "id": "HZpIVv3SnPZr",
        "outputId": "7f0916de-00c0-4953-a7a9-cc2600fa597e"
      },
      "execution_count": 6,
      "outputs": [
        {
          "output_type": "stream",
          "name": "stdout",
          "text": [
            "새로운 비밀번호를 입력하세요 : abcd1234\n",
            "Good~ , 비밀번호가 올바르게 생성되었습니다.\n"
          ]
        }
      ]
    },
    {
      "cell_type": "markdown",
      "source": [
        "**훈민정음 나랏말싸미**"
      ],
      "metadata": {
        "id": "k8TPgaH8pZJ0"
      }
    },
    {
      "cell_type": "code",
      "source": [
        "!pip3 install ColabTurtle\n",
        "import random\n",
        "import ColabTurtle.Turtle as turtle\n",
        "\n",
        "print(turtle.DEFAULT_WINDOW_SIZE)\n",
        "\n",
        "turtle.initializeTurtle()\n",
        "\n",
        "hangul = \"\"\"\n",
        "        \"나랏말싸미 듕귁에 달아 문자와르 서르 사맛디 아니할쎄\n",
        "         이런 전차로 어린 백셩이 니르고져 홀베이셔도 마참네 제 뜨들 \n",
        "         시러펴디 묻할 노미하니아 내 이랄 윙하야 어엿비너겨 새로 스물 여들 짜랄 \n",
        "         맹가노니 사람마다 해여 수비니겨 날로 쑤메 뻔한킈 하고져 할따라미니라\"\n",
        "        \"\"\"\n",
        "for i in  range(len(hangul)) :\n",
        "  turtle.penup()\n",
        "  x = random.randint(0, 750)\n",
        "  y = random.randint(0, 450)\n",
        "  fontsize = random.randint(10, 70)\n",
        "  turtle.color((random.randint(0,255),random.randint(0,255),random.randint(0,255)))\n",
        "  turtle.goto(x,y)\n",
        "  turtle.write(hangul[i], font=(fontsize, \"Arial\",\"bold\"))"
      ],
      "metadata": {
        "colab": {
          "base_uri": "https://localhost:8080/",
          "height": 575
        },
        "id": "bvB49Y2IpZpl",
        "outputId": "52f68546-2b63-4233-e247-44aa1e9aa70e"
      },
      "execution_count": null,
      "outputs": [
        {
          "output_type": "stream",
          "name": "stdout",
          "text": [
            "Looking in indexes: https://pypi.org/simple, https://us-python.pkg.dev/colab-wheels/public/simple/\n",
            "Requirement already satisfied: ColabTurtle in /usr/local/lib/python3.7/dist-packages (2.1.0)\n",
            "(800, 500)\n"
          ]
        },
        {
          "output_type": "display_data",
          "data": {
            "text/plain": [
              "<IPython.core.display.HTML object>"
            ],
            "text/html": [
              "\n",
              "      <svg width=\"800\" height=\"500\">\n",
              "        <rect width=\"100%\" height=\"100%\" fill=\"black\"/>\n",
              "        <text x=\"517\" y=\"156\" fill=\"rgb(79,195,75)\" text-anchor=\"start\" style=\"font-size:25px;font-family:'Arial';font-weight:bold;\">\n",
              "</text><text x=\"725\" y=\"208\" fill=\"rgb(34,45,138)\" text-anchor=\"start\" style=\"font-size:62px;font-family:'Arial';font-weight:bold;\"> </text><text x=\"334\" y=\"279\" fill=\"rgb(9,127,118)\" text-anchor=\"start\" style=\"font-size:14px;font-family:'Arial';font-weight:bold;\"> </text><text x=\"87\" y=\"82\" fill=\"rgb(174,144,47)\" text-anchor=\"start\" style=\"font-size:68px;font-family:'Arial';font-weight:bold;\"> </text><text x=\"64\" y=\"404\" fill=\"rgb(28,25,38)\" text-anchor=\"start\" style=\"font-size:30px;font-family:'Arial';font-weight:bold;\"> </text><text x=\"62\" y=\"131\" fill=\"rgb(13,138,179)\" text-anchor=\"start\" style=\"font-size:56px;font-family:'Arial';font-weight:bold;\"> </text><text x=\"21\" y=\"229\" fill=\"rgb(34,194,170)\" text-anchor=\"start\" style=\"font-size:42px;font-family:'Arial';font-weight:bold;\"> </text><text x=\"137\" y=\"188\" fill=\"rgb(85,250,211)\" text-anchor=\"start\" style=\"font-size:46px;font-family:'Arial';font-weight:bold;\"> </text><text x=\"78\" y=\"10\" fill=\"rgb(125,246,109)\" text-anchor=\"start\" style=\"font-size:49px;font-family:'Arial';font-weight:bold;\"> </text><text x=\"600\" y=\"360\" fill=\"rgb(106,82,105)\" text-anchor=\"start\" style=\"font-size:49px;font-family:'Arial';font-weight:bold;\">\"</text><text x=\"238\" y=\"76\" fill=\"rgb(105,95,40)\" text-anchor=\"start\" style=\"font-size:11px;font-family:'Arial';font-weight:bold;\">나</text><text x=\"246\" y=\"168\" fill=\"rgb(104,242,122)\" text-anchor=\"start\" style=\"font-size:14px;font-family:'Arial';font-weight:bold;\">랏</text><text x=\"409\" y=\"108\" fill=\"rgb(59,33,208)\" text-anchor=\"start\" style=\"font-size:34px;font-family:'Arial';font-weight:bold;\">말</text><text x=\"37\" y=\"209\" fill=\"rgb(215,4,13)\" text-anchor=\"start\" style=\"font-size:11px;font-family:'Arial';font-weight:bold;\">싸</text><text x=\"228\" y=\"78\" fill=\"rgb(108,141,23)\" text-anchor=\"start\" style=\"font-size:55px;font-family:'Arial';font-weight:bold;\">미</text><text x=\"685\" y=\"112\" fill=\"rgb(91,148,171)\" text-anchor=\"start\" style=\"font-size:61px;font-family:'Arial';font-weight:bold;\"> </text><text x=\"676\" y=\"112\" fill=\"rgb(30,38,228)\" text-anchor=\"start\" style=\"font-size:41px;font-family:'Arial';font-weight:bold;\">듕</text><text x=\"298\" y=\"206\" fill=\"rgb(124,29,44)\" text-anchor=\"start\" style=\"font-size:29px;font-family:'Arial';font-weight:bold;\">귁</text><text x=\"524\" y=\"149\" fill=\"rgb(33,121,118)\" text-anchor=\"start\" style=\"font-size:19px;font-family:'Arial';font-weight:bold;\">에</text><text x=\"687\" y=\"205\" fill=\"rgb(226,19,113)\" text-anchor=\"start\" style=\"font-size:59px;font-family:'Arial';font-weight:bold;\"> </text><text x=\"143\" y=\"327\" fill=\"rgb(251,93,132)\" text-anchor=\"start\" style=\"font-size:45px;font-family:'Arial';font-weight:bold;\">달</text><text x=\"653\" y=\"87\" fill=\"rgb(80,141,30)\" text-anchor=\"start\" style=\"font-size:14px;font-family:'Arial';font-weight:bold;\">아</text><text x=\"517\" y=\"22\" fill=\"rgb(152,139,68)\" text-anchor=\"start\" style=\"font-size:34px;font-family:'Arial';font-weight:bold;\"> </text><text x=\"280\" y=\"185\" fill=\"rgb(81,250,197)\" text-anchor=\"start\" style=\"font-size:67px;font-family:'Arial';font-weight:bold;\">문</text><text x=\"72\" y=\"163\" fill=\"rgb(149,191,42)\" text-anchor=\"start\" style=\"font-size:31px;font-family:'Arial';font-weight:bold;\">자</text><text x=\"331\" y=\"25\" fill=\"rgb(138,120,251)\" text-anchor=\"start\" style=\"font-size:62px;font-family:'Arial';font-weight:bold;\">와</text><text x=\"139\" y=\"160\" fill=\"rgb(201,70,223)\" text-anchor=\"start\" style=\"font-size:54px;font-family:'Arial';font-weight:bold;\">르</text><text x=\"248\" y=\"46\" fill=\"rgb(134,105,250)\" text-anchor=\"start\" style=\"font-size:18px;font-family:'Arial';font-weight:bold;\"> </text><text x=\"240\" y=\"449\" fill=\"rgb(11,13,237)\" text-anchor=\"start\" style=\"font-size:56px;font-family:'Arial';font-weight:bold;\">서</text><text x=\"182\" y=\"366\" fill=\"rgb(9,132,107)\" text-anchor=\"start\" style=\"font-size:37px;font-family:'Arial';font-weight:bold;\">르</text><text x=\"33\" y=\"346\" fill=\"rgb(175,77,201)\" text-anchor=\"start\" style=\"font-size:65px;font-family:'Arial';font-weight:bold;\"> </text><text x=\"347\" y=\"393\" fill=\"rgb(99,50,9)\" text-anchor=\"start\" style=\"font-size:34px;font-family:'Arial';font-weight:bold;\">사</text><text x=\"67\" y=\"258\" fill=\"rgb(130,228,79)\" text-anchor=\"start\" style=\"font-size:31px;font-family:'Arial';font-weight:bold;\">맛</text><text x=\"618\" y=\"42\" fill=\"rgb(14,173,159)\" text-anchor=\"start\" style=\"font-size:51px;font-family:'Arial';font-weight:bold;\">디</text><text x=\"698\" y=\"182\" fill=\"rgb(231,167,99)\" text-anchor=\"start\" style=\"font-size:18px;font-family:'Arial';font-weight:bold;\"> </text><text x=\"502\" y=\"175\" fill=\"rgb(53,105,239)\" text-anchor=\"start\" style=\"font-size:41px;font-family:'Arial';font-weight:bold;\">아</text><text x=\"589\" y=\"60\" fill=\"rgb(80,50,171)\" text-anchor=\"start\" style=\"font-size:11px;font-family:'Arial';font-weight:bold;\">니</text><text x=\"61\" y=\"289\" fill=\"rgb(148,245,64)\" text-anchor=\"start\" style=\"font-size:14px;font-family:'Arial';font-weight:bold;\">할</text><text x=\"538\" y=\"274\" fill=\"rgb(255,207,201)\" text-anchor=\"start\" style=\"font-size:30px;font-family:'Arial';font-weight:bold;\">쎄</text><text x=\"691\" y=\"429\" fill=\"rgb(30,98,159)\" text-anchor=\"start\" style=\"font-size:53px;font-family:'Arial';font-weight:bold;\">\n",
              "</text><text x=\"274\" y=\"427\" fill=\"rgb(218,43,230)\" text-anchor=\"start\" style=\"font-size:10px;font-family:'Arial';font-weight:bold;\"> </text><text x=\"649\" y=\"54\" fill=\"rgb(89,5,23)\" text-anchor=\"start\" style=\"font-size:15px;font-family:'Arial';font-weight:bold;\"> </text><text x=\"462\" y=\"83\" fill=\"rgb(29,125,181)\" text-anchor=\"start\" style=\"font-size:52px;font-family:'Arial';font-weight:bold;\"> </text><text x=\"361\" y=\"287\" fill=\"rgb(178,55,127)\" text-anchor=\"start\" style=\"font-size:39px;font-family:'Arial';font-weight:bold;\"> </text><text x=\"160\" y=\"300\" fill=\"rgb(65,54,160)\" text-anchor=\"start\" style=\"font-size:42px;font-family:'Arial';font-weight:bold;\"> </text>\n",
              "        <g visibility=visible transform=\"rotate(360,160,300) translate(142, 282)\">\n",
              "<path style=\" stroke:none;fill-rule:evenodd;fill:rgb(65,54,160);fill-opacity:1;\" d=\"M 18.214844 0.632812 C 16.109375 1.800781 15.011719 4.074219 15.074219 7.132812 L 15.085938 7.652344 L 14.785156 7.496094 C 13.476562 6.824219 11.957031 6.671875 10.40625 7.066406 C 8.46875 7.550781 6.515625 9.15625 4.394531 11.992188 C 3.0625 13.777344 2.679688 14.636719 3.042969 15.027344 L 3.15625 15.152344 L 3.519531 15.152344 C 4.238281 15.152344 4.828125 14.886719 8.1875 13.039062 C 9.386719 12.378906 10.371094 11.839844 10.378906 11.839844 C 10.386719 11.839844 10.355469 11.929688 10.304688 12.035156 C 9.832031 13.09375 9.257812 14.820312 8.96875 16.078125 C 7.914062 20.652344 8.617188 24.53125 11.070312 27.660156 C 11.351562 28.015625 11.363281 27.914062 10.972656 28.382812 C 8.925781 30.84375 7.945312 33.28125 8.238281 35.1875 C 8.289062 35.527344 8.28125 35.523438 8.917969 35.523438 C 10.941406 35.523438 13.074219 34.207031 15.136719 31.6875 C 15.359375 31.417969 15.328125 31.425781 15.5625 31.574219 C 16.292969 32.042969 18.023438 32.964844 18.175781 32.964844 C 18.335938 32.964844 19.941406 32.210938 20.828125 31.71875 C 20.996094 31.625 21.136719 31.554688 21.136719 31.558594 C 21.203125 31.664062 21.898438 32.414062 22.222656 32.730469 C 23.835938 34.300781 25.5625 35.132812 27.582031 35.300781 C 27.90625 35.328125 27.9375 35.308594 28.007812 34.984375 C 28.382812 33.242188 27.625 30.925781 25.863281 28.425781 L 25.542969 27.96875 L 25.699219 27.785156 C 28.945312 23.960938 29.132812 18.699219 26.257812 11.96875 L 26.207031 11.84375 L 27.945312 12.703125 C 31.53125 14.476562 32.316406 14.800781 33.03125 14.800781 C 33.976562 14.800781 33.78125 13.9375 32.472656 12.292969 C 28.519531 7.355469 25.394531 5.925781 21.921875 7.472656 L 21.558594 7.636719 L 21.578125 7.542969 C 21.699219 6.992188 21.761719 5.742188 21.699219 5.164062 C 21.496094 3.296875 20.664062 1.964844 19.003906 0.855469 C 18.480469 0.503906 18.457031 0.5 18.214844 0.632812\"/>\n",
              "</g>\n",
              "      </svg>\n",
              "    "
            ]
          },
          "metadata": {}
        }
      ]
    }
  ]
}