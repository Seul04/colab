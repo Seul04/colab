{
  "nbformat": 4,
  "nbformat_minor": 0,
  "metadata": {
    "colab": {
      "provenance": [],
      "authorship_tag": "ABX9TyOPcI+n6xatzU3V6a6wqGl3",
      "include_colab_link": true
    },
    "kernelspec": {
      "name": "python3",
      "display_name": "Python 3"
    },
    "language_info": {
      "name": "python"
    }
  },
  "cells": [
    {
      "cell_type": "markdown",
      "metadata": {
        "id": "view-in-github",
        "colab_type": "text"
      },
      "source": [
        "<a href=\"https://colab.research.google.com/github/Seul04/colab/blob/main/%EC%88%98%ED%96%89%ED%8F%89%EA%B0%803.ipynb\" target=\"_parent\"><img src=\"https://colab.research.google.com/assets/colab-badge.svg\" alt=\"Open In Colab\"/></a>"
      ]
    },
    {
      "cell_type": "markdown",
      "source": [
        "**문제 (1)**"
      ],
      "metadata": {
        "id": "54j8VSQkfZBb"
      }
    },
    {
      "cell_type": "code",
      "execution_count": 3,
      "metadata": {
        "colab": {
          "base_uri": "https://localhost:8080/"
        },
        "id": "dKTSKEtBbdgV",
        "outputId": "839ad3c2-3a82-43be-cbaa-be46143b05d8"
      },
      "outputs": [
        {
          "output_type": "stream",
          "name": "stdout",
          "text": [
            "정수를 입력 ==> 1773\n",
            "홀수입니다.\n"
          ]
        }
      ],
      "source": [
        "x=int(input(\"정수를 입력 ==> \"))\n",
        "\n",
        "if(x%2==1):\n",
        "    print(\"홀수입니다.\")\n",
        "else:\n",
        "    print(\"짝수입니다.\")"
      ]
    },
    {
      "cell_type": "markdown",
      "source": [
        "**문제 (2)**"
      ],
      "metadata": {
        "id": "ynn50w79feHU"
      }
    },
    {
      "cell_type": "code",
      "source": [
        "a=int(input(\"숫자를 입력 ==> \"))\n",
        "\n",
        "\n",
        "if a>100:\n",
        "\n",
        "    if a<1000:\n",
        "\n",
        "        print(\"100보다 크고 1000보다 작군요.\")\n",
        "\n",
        "    else:\n",
        "\n",
        "        print(\"1000보다 크군요.\")\n",
        "\n",
        "else:\n",
        "\n",
        "    print(\"100보다 작군요.\")"
      ],
      "metadata": {
        "colab": {
          "base_uri": "https://localhost:8080/"
        },
        "id": "ty731f5cdhIo",
        "outputId": "ca9d7722-877d-4fae-f4a4-a7d3abaa212c"
      },
      "execution_count": 6,
      "outputs": [
        {
          "output_type": "stream",
          "name": "stdout",
          "text": [
            "숫자를 입력 ==> 150\n",
            "100보다 크고 1000보다 작군요.\n"
          ]
        }
      ]
    },
    {
      "cell_type": "markdown",
      "source": [
        "**문제 (3)**"
      ],
      "metadata": {
        "id": "3HDIlaWpgw0p"
      }
    },
    {
      "cell_type": "code",
      "source": [
        "\n",
        "score =int(input(\"점수를 입력하세요 ==> \"))\n",
        "\n",
        "if(score >= 90):\n",
        "    print(\"A학점\")\n",
        "elif(score>=80):\n",
        "    print(\"B학점\")\n",
        "elif(score>=70):\n",
        "    print(\"C학점\")\n",
        "elif(score>=60):\n",
        "    print(\"D학점\")\n",
        "else:\n",
        "    print(\"F학점\")"
      ],
      "metadata": {
        "colab": {
          "base_uri": "https://localhost:8080/"
        },
        "id": "cTM_OVD9gMQC",
        "outputId": "20712acc-b616-4de7-eded-1e44b53089ea"
      },
      "execution_count": 11,
      "outputs": [
        {
          "output_type": "stream",
          "name": "stdout",
          "text": [
            "점수를 입력하세요 ==> 50\n",
            "F학점\n"
          ]
        }
      ]
    },
    {
      "cell_type": "markdown",
      "source": [
        "**문제 (4)**"
      ],
      "metadata": {
        "id": "GnGZ6bJWiZDt"
      }
    },
    {
      "cell_type": "code",
      "source": [
        "import random\n",
        "\n",
        "print('가위 바위 보 게임')\n",
        "print('가위 바위 보를 하는 게임 입니다.')\n",
        "\n",
        "computer = random.choice(['가위', '바위', '보'])\n",
        "player = input('가위 바위 보 중 하나를 입력하세요: ')\n",
        "\n",
        "if computer == '가위':\n",
        "    print('컴퓨터는 가위를 냈습니다.')\n",
        "    if player == '가위':\n",
        "        print('플레이어는 가위를 냈습니다.')\n",
        "        print('무승부')\n",
        "    elif player == '바위':\n",
        "        print('플레이어는 바위를 냈습니다.')\n",
        "        print('플레이어 승리')   \n",
        "    elif player == '보':\n",
        "        print('플레이어는 보를 냈습니다.')\n",
        "        print('컴퓨터 승리')\n",
        "elif computer == '바위':\n",
        "    print('컴퓨터는 바위를 냈습니다.')\n",
        "    if player == '가위':\n",
        "        print('플레이어는 가위를 냈습니다.')\n",
        "        print('컴퓨터 승리')\n",
        "    elif player == '바위':\n",
        "        print('플레이어는 바위를 냈습니다.')\n",
        "        print('무승부')\n",
        "    elif player == '보':\n",
        "        print('플레이어는 보를 냈습니다.')\n",
        "        print('플레이어 승리')\n",
        "elif computer == '보':\n",
        "    print('컴퓨터는 보를 냈습니다.')\n",
        "    if player == '가위':\n",
        "        print('플레이어는 가위를 냈습니다.')\n",
        "        print('플레이어 승리')\n",
        "    elif player == '바위':\n",
        "        print('플레이어는 바위를 냈습니다.')\n",
        "        print('컴퓨터 승리') \n",
        "    elif player == '보':\n",
        "        print('플레이어는 보를 냈습니다.')\n",
        "        print('무승부')"
      ],
      "metadata": {
        "colab": {
          "base_uri": "https://localhost:8080/"
        },
        "id": "uxPonaChiC8f",
        "outputId": "0ae29d5d-ba35-4eed-f075-83ca70408752"
      },
      "execution_count": 14,
      "outputs": [
        {
          "output_type": "stream",
          "name": "stdout",
          "text": [
            "가위 바위 보 게임\n",
            "가위 바위 보를 하는 게임 입니다.\n",
            "가위 바위 보 중 하나를 입력하세요: 바위\n",
            "컴퓨터는 가위를 냈습니다.\n",
            "플레이어는 바위를 냈습니다.\n",
            "플레이어 승리\n"
          ]
        }
      ]
    }
  ]
}