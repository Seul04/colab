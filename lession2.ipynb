{
  "nbformat": 4,
  "nbformat_minor": 0,
  "metadata": {
    "colab": {
      "name": "lession2.ipynb",
      "provenance": [],
      "authorship_tag": "ABX9TyN5U5TFFl5txuVzg599sR9X",
      "include_colab_link": true
    },
    "kernelspec": {
      "name": "python3",
      "display_name": "Python 3"
    },
    "language_info": {
      "name": "python"
    }
  },
  "cells": [
    {
      "cell_type": "markdown",
      "metadata": {
        "id": "view-in-github",
        "colab_type": "text"
      },
      "source": [
        "<a href=\"https://colab.research.google.com/github/Seul04/colab/blob/main/lession2.ipynb\" target=\"_parent\"><img src=\"https://colab.research.google.com/assets/colab-badge.svg\" alt=\"Open In Colab\"/></a>"
      ]
    },
    {
      "cell_type": "markdown",
      "source": [
        "파이썬 2장\n",
        "* 변수와 input 함수\n",
        "* 간단한 input 함수"
      ],
      "metadata": {
        "id": "10scYtKMB3ZX"
      }
    },
    {
      "cell_type": "code",
      "execution_count": 1,
      "metadata": {
        "colab": {
          "base_uri": "https://localhost:8080/"
        },
        "id": "J9pc_unaAX4O",
        "outputId": "7075215d-1e22-4a6c-a6ce-234e72067b22"
      },
      "outputs": [
        {
          "output_type": "stream",
          "name": "stdout",
          "text": [
            "100 + 200 = 300\n",
            "100 - 200 = -100\n",
            "100 / 200 = 0.5\n",
            "100 * 200 = 20000\n"
          ]
        }
      ],
      "source": [
        "num1 = 100\n",
        "num2 = 200\n",
        "result1 = num1 + num2\n",
        "result2 = num1 - num2\n",
        "result3 = num1 / num2\n",
        "result4 = num1 * num2\n",
        "print(num1, \"+\", num2, \"=\", result1)\n",
        "print(num1, \"-\", num2, \"=\", result2)\n",
        "print(num1, \"/\", num2, \"=\", result3)\n",
        "print(num1, \"*\", num2, \"=\", result4)"
      ]
    },
    {
      "cell_type": "markdown",
      "source": [
        "* input 함수 예재"
      ],
      "metadata": {
        "id": "9wqGGu3dGbzW"
      }
    },
    {
      "cell_type": "code",
      "source": [
        "nium1 = input(\"첫번째 숫자 입력 =>\")\n",
        "num2 = int(input(\"두번째 숫자 입력 =>\"))\n",
        "result = int(num1) + num2\n",
        "print(num1, \"+\", num2, \"=\", result)"
      ],
      "metadata": {
        "colab": {
          "base_uri": "https://localhost:8080/"
        },
        "id": "Zzqx5QumFRPH",
        "outputId": "d7a0a5aa-4a4f-4fc5-e192-91568dc7bf02"
      },
      "execution_count": 3,
      "outputs": [
        {
          "output_type": "stream",
          "name": "stdout",
          "text": [
            "첫번째 숫자 입력 =>100\n",
            "두번째 숫자 입력 =>200\n",
            "100 + 200 = 300\n"
          ]
        }
      ]
    },
    {
      "cell_type": "code",
      "source": [
        "print(\"** 논술형 문제 - inpot()함수를 이용한 간단한 계산기 ** \")\n",
        "num1 = float(input(\"첫번째 숫자 입력 :\"))\n",
        "num2 = float(input(\"두번째 숫자 입력 :\"))\n",
        "print(num1, \"+\", num2, \"=\", num1 + num2)\n",
        "print(num1, \"-\", num2, \"=\", num1 - num2)\n",
        "print(num1, \"/\", num2, \"=\", num1 / num2)\n",
        "print(num1, \"*\", num2, \"=\", num1 * num2)"
      ],
      "metadata": {
        "colab": {
          "base_uri": "https://localhost:8080/"
        },
        "id": "gZMrG8PLIcD1",
        "outputId": "8dded47b-d7cf-4e71-f9a3-131a60f1e3f1"
      },
      "execution_count": 15,
      "outputs": [
        {
          "output_type": "stream",
          "name": "stdout",
          "text": [
            "** 논술형 문제 - inpot()함수를 이용한 간단한 계산기 ** \n",
            "첫번째 숫자 입력 :100\n",
            "두번째 숫자 입력 :200\n",
            "100.0 + 200.0 = 300.0\n",
            "100.0 - 200.0 = -100.0\n",
            "100.0 / 200.0 = 0.5\n",
            "100.0 * 200.0 = 20000.0\n"
          ]
        }
      ]
    }
  ]
}