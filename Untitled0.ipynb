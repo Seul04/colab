{
  "nbformat": 4,
  "nbformat_minor": 0,
  "metadata": {
    "colab": {
      "name": "Untitled0.ipynb",
      "provenance": [],
      "authorship_tag": "ABX9TyMcLI1TjGCu4pUBIZZayvXc",
      "include_colab_link": true
    },
    "kernelspec": {
      "name": "python3",
      "display_name": "Python 3"
    },
    "language_info": {
      "name": "python"
    }
  },
  "cells": [
    {
      "cell_type": "markdown",
      "metadata": {
        "id": "view-in-github",
        "colab_type": "text"
      },
      "source": [
        "<a href=\"https://colab.research.google.com/github/Seul04/colab/blob/main/Untitled0.ipynb\" target=\"_parent\"><img src=\"https://colab.research.google.com/assets/colab-badge.svg\" alt=\"Open In Colab\"/></a>"
      ]
    },
    {
      "cell_type": "code",
      "execution_count": null,
      "metadata": {
        "id": "4x7Wm4_GeaO7"
      },
      "outputs": [],
      "source": [
        ">>> ss = \"first python\"\n",
        ">>> ss.isupper()\n"
      ]
    },
    {
      "cell_type": "code",
      "source": [
        "str1 = input(\"문자열 입력 : \")\n",
        "print(\"입력된 문자열의 길이 : \" len(str1))\n",
        "print(\"입력된 문자열을 대문자로 변환 : \", str 1 upper())\n",
        "print(\"입력된 문자열을 소문자로 변환 : \" str 1 upper())\n",
        "print(\"입력된 문자열 중 ansan 몇번 나오는지 : \" len(str1))\n",
        "print(\"입력된 문자열은 대문자인가요? : \" len(str1))\n",
        "print(\"입력된 문자열은 소문자인가요? : \" len(str1))"
      ],
      "metadata": {
        "colab": {
          "base_uri": "https://localhost:8080/",
          "height": 136
        },
        "id": "gO9MC0W3fe_e",
        "outputId": "6e6045db-e128-4b64-939a-69699fb9b3c2"
      },
      "execution_count": 3,
      "outputs": [
        {
          "output_type": "error",
          "ename": "SyntaxError",
          "evalue": "ignored",
          "traceback": [
            "\u001b[0;36m  File \u001b[0;32m\"<ipython-input-3-edcbc1912778>\"\u001b[0;36m, line \u001b[0;32m2\u001b[0m\n\u001b[0;31m    print(\"입력된 문자열의 길이 : \" len(str1))\u001b[0m\n\u001b[0m                             ^\u001b[0m\n\u001b[0;31mSyntaxError\u001b[0m\u001b[0;31m:\u001b[0m invalid syntax\n"
          ]
        }
      ]
    },
    {
      "cell_type": "code",
      "source": [],
      "metadata": {
        "id": "zeoY3LEEn3Bh"
      },
      "execution_count": null,
      "outputs": []
    },
    {
      "cell_type": "code",
      "source": [
        "Ler it be\n",
        "\"\"\"\n",
        "\n",
        "count = 0\n",
        "print(\"Let it be 노래에서 'Let it be' 라는단어는 총 \",\\ \n",
        "count, \"번 나옵니다.\")\n"
      ],
      "metadata": {
        "colab": {
          "base_uri": "https://localhost:8080/",
          "height": 136
        },
        "id": "D9ZJV5C-iHe-",
        "outputId": "fb9051a5-e458-49c6-a275-d16719d98d6e"
      },
      "execution_count": 2,
      "outputs": [
        {
          "output_type": "error",
          "ename": "SyntaxError",
          "evalue": "ignored",
          "traceback": [
            "\u001b[0;36m  File \u001b[0;32m\"<ipython-input-2-d4913dc721b6>\"\u001b[0;36m, line \u001b[0;32m1\u001b[0m\n\u001b[0;31m    Ler it be\u001b[0m\n\u001b[0m         ^\u001b[0m\n\u001b[0;31mSyntaxError\u001b[0m\u001b[0;31m:\u001b[0m invalid syntax\n"
          ]
        }
      ]
    },
    {
      "cell_type": "code",
      "source": [
        "str1 = \"Ansan Technical High Sdhool\"\n",
        "print(str1)\n",
        "print(str1[0:5])\n",
        "print(str1[16:20])\n",
        "print(str1[-1:-4])"
      ],
      "metadata": {
        "colab": {
          "base_uri": "https://localhost:8080/"
        },
        "id": "NO8RBtMBmlHs",
        "outputId": "028c55ef-be28-435d-9cef-34819c775818"
      },
      "execution_count": 1,
      "outputs": [
        {
          "output_type": "stream",
          "name": "stdout",
          "text": [
            "Ansan Technical High Sdhool\n",
            "Ansan\n",
            "High\n",
            "\n"
          ]
        }
      ]
    },
    {
      "cell_type": "code",
      "source": [
        "while True :\n",
        "  str1 = input(\"문자열 입력 : \")\n",
        "  if str1 == \"q\" :\n",
        "    break\n",
        "  print(str1)  \n"
      ],
      "metadata": {
        "colab": {
          "base_uri": "https://localhost:8080/"
        },
        "id": "UwidGoB0n4BU",
        "outputId": "e7c0e2a0-4788-4712-ff0c-baa14980197c"
      },
      "execution_count": 7,
      "outputs": [
        {
          "name": "stdout",
          "output_type": "stream",
          "text": [
            "문자열 입력 : vbfnfhjh\n",
            "vbfnfhjh\n",
            "문자열 입력 : asdfa\n",
            "asdfa\n",
            "문자열 입력 : gaegf\n",
            "gaegf\n",
            "문자열 입력 : sfdga\n",
            "sfdga\n",
            "문자열 입력 : q\n"
          ]
        }
      ]
    },
    {
      "cell_type": "code",
      "source": [
        "sadfasg\n"
      ],
      "metadata": {
        "id": "p_VbAuWyrgHq"
      },
      "execution_count": null,
      "outputs": []
    },
    {
      "cell_type": "code",
      "source": [
        "singer = input(\"가수 이름을 입력 : \")\n",
        "singer_len = len(singer)\n",
        "while singer_len > 0 :\n",
        "  print(singer[singer_len-1])\n",
        "  singer_len = singer_len - 1"
      ],
      "metadata": {
        "colab": {
          "base_uri": "https://localhost:8080/"
        },
        "id": "J__gJ5r4rmRl",
        "outputId": "04f9beb0-dc61-42c7-db21-f45554753bf9"
      },
      "execution_count": 9,
      "outputs": [
        {
          "output_type": "stream",
          "name": "stdout",
          "text": [
            "가수 이름을 입력 : 오에오\n",
            "오\n",
            "에\n",
            "오\n"
          ]
        }
      ]
    },
    {
      "cell_type": "code",
      "source": [
        "str1 = input(\"원본 문자열을 입력 : \")\n",
        "while len(str1) > 0 :\n",
        "  if str1[index].isupper() :\n",
        "    str1[index] = str1.lower()\n",
        "  else :\n",
        "    str1[index] = str1[index].upper()\n",
        "    index = index + 1\n",
        "print (\"변경한 문자열 : \", str1)      \n"
      ],
      "metadata": {
        "id": "AIShRpAWvFpl"
      },
      "execution_count": null,
      "outputs": []
    }
  ]
}