{
  "nbformat": 4,
  "nbformat_minor": 0,
  "metadata": {
    "colab": {
      "provenance": [],
      "collapsed_sections": [],
      "authorship_tag": "ABX9TyNWhrxugPS88Ryf3jCYG0FE",
      "include_colab_link": true
    },
    "kernelspec": {
      "name": "python3",
      "display_name": "Python 3"
    },
    "language_info": {
      "name": "python"
    }
  },
  "cells": [
    {
      "cell_type": "markdown",
      "metadata": {
        "id": "view-in-github",
        "colab_type": "text"
      },
      "source": [
        "<a href=\"https://colab.research.google.com/github/Seul04/colab/blob/main/08_30.ipynb\" target=\"_parent\"><img src=\"https://colab.research.google.com/assets/colab-badge.svg\" alt=\"Open In Colab\"/></a>"
      ]
    },
    {
      "cell_type": "markdown",
      "source": [
        "**대문자를 소문자로, 소문자를 대문자로 변경하는 프로그램**"
      ],
      "metadata": {
        "id": "FdxGugelSl3E"
      }
    },
    {
      "cell_type": "code",
      "execution_count": null,
      "metadata": {
        "id": "I0_1Si1LpFjf",
        "colab": {
          "base_uri": "https://localhost:8080/"
        },
        "outputId": "de82a5f3-c442-490e-81b6-38f7c24b8614"
      },
      "outputs": [
        {
          "output_type": "stream",
          "name": "stdout",
          "text": [
            "원본 문자열은 ==>  python\n",
            "원본 문자열은 ==>  pYTHON\n"
          ]
        }
      ],
      "source": [
        "text = \"python\"\n",
        "change_text = text[0]. lower() + text[1]. upper() + text[2].upper() + text[3].upper() + \\\n",
        "text[4]. upper() + text[5]. upper() \n",
        "print(\"원본 문자열은 ==> \", text)\n",
        "print(\"원본 문자열은 ==> \", change_text)"
      ]
    },
    {
      "cell_type": "markdown",
      "source": [
        "**복합대입 연산자를 이용한 연산자 풀이**"
      ],
      "metadata": {
        "id": "JZdP_3CKVnV0"
      }
    },
    {
      "cell_type": "code",
      "source": [
        "ss = \"Python\"\n",
        "print(\"원본 문자열 ==> \", ss)\n",
        "\n",
        "ss2 = \"\"\n",
        "\n",
        "ss2 += ss[0]. lower()\n",
        "ss2 += ss[1]. upper()\n",
        "ss2 += ss[2]. upper()\n",
        "ss2 += ss[3]. upper()\n",
        "ss2 += ss[4]. upper()\n",
        "ss2 += ss[5]. upper()\n",
        "\n",
        "print(\"변환 문자열 ==> \", end='')\n",
        "print(ss2)"
      ],
      "metadata": {
        "colab": {
          "base_uri": "https://localhost:8080/"
        },
        "id": "oZDtEJ0pVq8z",
        "outputId": "3b7a5b54-75fc-4736-be19-8015fed6e88d"
      },
      "execution_count": null,
      "outputs": [
        {
          "output_type": "stream",
          "name": "stdout",
          "text": [
            "원본 문자열 ==>  Python\n",
            "변환 문자열 ==> pYTHON\n"
          ]
        }
      ]
    },
    {
      "cell_type": "markdown",
      "source": [
        "**모험을 떠나는 거북이**"
      ],
      "metadata": {
        "id": "psoPfKVaWzg6"
      }
    },
    {
      "cell_type": "code",
      "source": [
        "!pip3 install ColabTurtle\n",
        "import ColabTurtle. Turtle as turtle\n",
        "turtle.initializeTurtle()\n",
        "turtle.penup()\n",
        "while True :\n",
        "  x = int(input(\"x 좌표 입력 : \"))\n",
        "  if x == 0 : breaky \n",
        "  y = int(input(\"x 좌표 입력 : \"))\n",
        "  text = input(\"쓰고 싶은 글자 :\")\n",
        "  turtle.goto(x, y)\n",
        "  turtle.write(text)"
      ],
      "metadata": {
        "colab": {
          "base_uri": "https://localhost:8080/",
          "height": 1000
        },
        "id": "tBAlFSrcW3zh",
        "outputId": "45e46707-5f92-46c0-f82d-8126b64b3d08"
      },
      "execution_count": 1,
      "outputs": [
        {
          "output_type": "stream",
          "name": "stdout",
          "text": [
            "Looking in indexes: https://pypi.org/simple, https://us-python.pkg.dev/colab-wheels/public/simple/\n",
            "Collecting ColabTurtle\n",
            "  Downloading ColabTurtle-2.1.0.tar.gz (6.8 kB)\n",
            "Building wheels for collected packages: ColabTurtle\n",
            "  Building wheel for ColabTurtle (setup.py) ... \u001b[?25l\u001b[?25hdone\n",
            "  Created wheel for ColabTurtle: filename=ColabTurtle-2.1.0-py3-none-any.whl size=7657 sha256=8f795342e85a131ef7b5bdf45351daff7c62e0f131c6a5d1a5a9b0f1a3aa518f\n",
            "  Stored in directory: /root/.cache/pip/wheels/0d/ab/65/cc4478508751448dfb4ecb20a6533082855c227dfce8c13902\n",
            "Successfully built ColabTurtle\n",
            "Installing collected packages: ColabTurtle\n",
            "Successfully installed ColabTurtle-2.1.0\n"
          ]
        },
        {
          "output_type": "display_data",
          "data": {
            "text/plain": [
              "<IPython.core.display.HTML object>"
            ],
            "text/html": [
              "\n",
              "      <svg width=\"800\" height=\"500\">\n",
              "        <rect width=\"100%\" height=\"100%\" fill=\"black\"/>\n",
              "        <text x=\"100\" y=\"100\" fill=\"white\" text-anchor=\"start\" style=\"font-size:12px;font-family:'Arial';\">집 가즈아</text><text x=\"100\" y=\"200\" fill=\"white\" text-anchor=\"start\" style=\"font-size:12px;font-family:'Arial';\">300</text><text x=\"100\" y=\"200\" fill=\"white\" text-anchor=\"start\" style=\"font-size:12px;font-family:'Arial';\">집 집 가고싶다..</text><text x=\"100\" y=\"200\" fill=\"white\" text-anchor=\"start\" style=\"font-size:12px;font-family:'Arial';\">집 집 어제 가냐</text><text x=\"100\" y=\"200\" fill=\"white\" text-anchor=\"start\" style=\"font-size:12px;font-family:'Arial';\">ㅇ</text><text x=\"500\" y=\"500\" fill=\"white\" text-anchor=\"start\" style=\"font-size:12px;font-family:'Arial';\">집  집 가고싶다</text>\n",
              "        <g visibility=visible transform=\"rotate(360,500,500) translate(482, 482)\">\n",
              "<path style=\" stroke:none;fill-rule:evenodd;fill:white;fill-opacity:1;\" d=\"M 18.214844 0.632812 C 16.109375 1.800781 15.011719 4.074219 15.074219 7.132812 L 15.085938 7.652344 L 14.785156 7.496094 C 13.476562 6.824219 11.957031 6.671875 10.40625 7.066406 C 8.46875 7.550781 6.515625 9.15625 4.394531 11.992188 C 3.0625 13.777344 2.679688 14.636719 3.042969 15.027344 L 3.15625 15.152344 L 3.519531 15.152344 C 4.238281 15.152344 4.828125 14.886719 8.1875 13.039062 C 9.386719 12.378906 10.371094 11.839844 10.378906 11.839844 C 10.386719 11.839844 10.355469 11.929688 10.304688 12.035156 C 9.832031 13.09375 9.257812 14.820312 8.96875 16.078125 C 7.914062 20.652344 8.617188 24.53125 11.070312 27.660156 C 11.351562 28.015625 11.363281 27.914062 10.972656 28.382812 C 8.925781 30.84375 7.945312 33.28125 8.238281 35.1875 C 8.289062 35.527344 8.28125 35.523438 8.917969 35.523438 C 10.941406 35.523438 13.074219 34.207031 15.136719 31.6875 C 15.359375 31.417969 15.328125 31.425781 15.5625 31.574219 C 16.292969 32.042969 18.023438 32.964844 18.175781 32.964844 C 18.335938 32.964844 19.941406 32.210938 20.828125 31.71875 C 20.996094 31.625 21.136719 31.554688 21.136719 31.558594 C 21.203125 31.664062 21.898438 32.414062 22.222656 32.730469 C 23.835938 34.300781 25.5625 35.132812 27.582031 35.300781 C 27.90625 35.328125 27.9375 35.308594 28.007812 34.984375 C 28.382812 33.242188 27.625 30.925781 25.863281 28.425781 L 25.542969 27.96875 L 25.699219 27.785156 C 28.945312 23.960938 29.132812 18.699219 26.257812 11.96875 L 26.207031 11.84375 L 27.945312 12.703125 C 31.53125 14.476562 32.316406 14.800781 33.03125 14.800781 C 33.976562 14.800781 33.78125 13.9375 32.472656 12.292969 C 28.519531 7.355469 25.394531 5.925781 21.921875 7.472656 L 21.558594 7.636719 L 21.578125 7.542969 C 21.699219 6.992188 21.761719 5.742188 21.699219 5.164062 C 21.496094 3.296875 20.664062 1.964844 19.003906 0.855469 C 18.480469 0.503906 18.457031 0.5 18.214844 0.632812\"/>\n",
              "</g>\n",
              "      </svg>\n",
              "    "
            ]
          },
          "metadata": {}
        },
        {
          "name": "stdout",
          "output_type": "stream",
          "text": [
            "x 좌표 입력 : 100\n",
            "x 좌표 입력 : 100\n",
            "쓰고 싶은 글자 :집 가즈아\n",
            "x 좌표 입력 : 100\n",
            "x 좌표 입력 : 200\n",
            "쓰고 싶은 글자 :300\n",
            "x 좌표 입력 : 100\n",
            "x 좌표 입력 : 200\n",
            "쓰고 싶은 글자 :집 집 가고싶다..\n",
            "x 좌표 입력 : 100\n",
            "x 좌표 입력 : 200\n",
            "쓰고 싶은 글자 :집 집 어제 가냐\n",
            "x 좌표 입력 : 100\n",
            "x 좌표 입력 : 200\n",
            "쓰고 싶은 글자 :ㅇ\n",
            "x 좌표 입력 : 500\n",
            "x 좌표 입력 : 500\n",
            "쓰고 싶은 글자 :집  집 가고싶다\n",
            "x 좌표 입력 : 0\n"
          ]
        },
        {
          "output_type": "error",
          "ename": "NameError",
          "evalue": "ignored",
          "traceback": [
            "\u001b[0;31m---------------------------------------------------------------------------\u001b[0m",
            "\u001b[0;31mNameError\u001b[0m                                 Traceback (most recent call last)",
            "\u001b[0;32m<ipython-input-1-dcf20aace1da>\u001b[0m in \u001b[0;36m<module>\u001b[0;34m\u001b[0m\n\u001b[1;32m      5\u001b[0m \u001b[0;32mwhile\u001b[0m \u001b[0;32mTrue\u001b[0m \u001b[0;34m:\u001b[0m\u001b[0;34m\u001b[0m\u001b[0;34m\u001b[0m\u001b[0m\n\u001b[1;32m      6\u001b[0m   \u001b[0mx\u001b[0m \u001b[0;34m=\u001b[0m \u001b[0mint\u001b[0m\u001b[0;34m(\u001b[0m\u001b[0minput\u001b[0m\u001b[0;34m(\u001b[0m\u001b[0;34m\"x 좌표 입력 : \"\u001b[0m\u001b[0;34m)\u001b[0m\u001b[0;34m)\u001b[0m\u001b[0;34m\u001b[0m\u001b[0;34m\u001b[0m\u001b[0m\n\u001b[0;32m----> 7\u001b[0;31m   \u001b[0;32mif\u001b[0m \u001b[0mx\u001b[0m \u001b[0;34m==\u001b[0m \u001b[0;36m0\u001b[0m \u001b[0;34m:\u001b[0m \u001b[0mbreaky\u001b[0m\u001b[0;34m\u001b[0m\u001b[0;34m\u001b[0m\u001b[0m\n\u001b[0m\u001b[1;32m      8\u001b[0m   \u001b[0my\u001b[0m \u001b[0;34m=\u001b[0m \u001b[0mint\u001b[0m\u001b[0;34m(\u001b[0m\u001b[0minput\u001b[0m\u001b[0;34m(\u001b[0m\u001b[0;34m\"x 좌표 입력 : \"\u001b[0m\u001b[0;34m)\u001b[0m\u001b[0;34m)\u001b[0m\u001b[0;34m\u001b[0m\u001b[0;34m\u001b[0m\u001b[0m\n\u001b[1;32m      9\u001b[0m   \u001b[0mtext\u001b[0m \u001b[0;34m=\u001b[0m \u001b[0minput\u001b[0m\u001b[0;34m(\u001b[0m\u001b[0;34m\"쓰고 싶은 글자 :\"\u001b[0m\u001b[0;34m)\u001b[0m\u001b[0;34m\u001b[0m\u001b[0;34m\u001b[0m\u001b[0m\n",
            "\u001b[0;31mNameError\u001b[0m: name 'breaky' is not defined"
          ]
        }
      ]
    }
  ]
}