{
  "nbformat": 4,
  "nbformat_minor": 0,
  "metadata": {
    "colab": {
      "provenance": [],
      "authorship_tag": "ABX9TyP2v8n+92iOuxRLZbQwvAro",
      "include_colab_link": true
    },
    "kernelspec": {
      "name": "python3",
      "display_name": "Python 3"
    },
    "language_info": {
      "name": "python"
    }
  },
  "cells": [
    {
      "cell_type": "markdown",
      "metadata": {
        "id": "view-in-github",
        "colab_type": "text"
      },
      "source": [
        "<a href=\"https://colab.research.google.com/github/Seul04/colab/blob/main/09_15.ipynb\" target=\"_parent\"><img src=\"https://colab.research.google.com/assets/colab-badge.svg\" alt=\"Open In Colab\"/></a>"
      ]
    },
    {
      "cell_type": "markdown",
      "source": [
        "beautifulsoup4-ㅡ크롤링"
      ],
      "metadata": {
        "id": "eUn7tJXtev7y"
      }
    },
    {
      "cell_type": "code",
      "execution_count": 4,
      "metadata": {
        "id": "1k7SgF2C11x6",
        "colab": {
          "base_uri": "https://localhost:8080/"
        },
        "outputId": "f6fbc90d-4d77-4320-ee18-890e1a018d74"
      },
      "outputs": [
        {
          "output_type": "stream",
          "name": "stdout",
          "text": [
            "Looking in indexes: https://pypi.org/simple, https://us-python.pkg.dev/colab-wheels/public/simple/\n",
            "Requirement already satisfied: beautifulsoup4 in /usr/local/lib/python3.7/dist-packages (4.6.3)\n",
            "Looking in indexes: https://pypi.org/simple, https://us-python.pkg.dev/colab-wheels/public/simple/\n",
            "Requirement already satisfied: requests in /usr/local/lib/python3.7/dist-packages (2.23.0)\n",
            "Requirement already satisfied: certifi>=2017.4.17 in /usr/local/lib/python3.7/dist-packages (from requests) (2022.6.15)\n",
            "Requirement already satisfied: idna<3,>=2.5 in /usr/local/lib/python3.7/dist-packages (from requests) (2.10)\n",
            "Requirement already satisfied: urllib3!=1.25.0,!=1.25.1,<1.26,>=1.21.1 in /usr/local/lib/python3.7/dist-packages (from requests) (1.24.3)\n",
            "Requirement already satisfied: chardet<4,>=3.0.2 in /usr/local/lib/python3.7/dist-packages (from requests) (3.0.4)\n",
            "가발 쓰고 여장한 20대, 여탕 들어가 50분간 지켜봤다\n",
            "[취재파일] 윤 대통령의 습관성 '-구나' 사용에 대하여\n",
            "신당역 여자화장실서 여성 역무원 피살…계획 범죄 무게\n",
            "뉴질랜드 '가방 속 아이 시신'…용의자, 울산서 검거됐다\n",
            "윤 대통령 \"태양광, 이권 카르텔 비리에 혈세 사용돼 개탄…사법 처리\"\n",
            "김종혁 \"尹 순방 맞춰 이준석 제명? 무슨 관계 있나\"\n",
            "경찰, '불법 도박 · 성매매' 혐의 이재명 장남 소환조사\n",
            "[단독] 보호조치 위반율 13% 넘는 스토킹 범죄…구속 6.2%뿐\n",
            "[단독] 신당역 화장실서 칼부림…역무원 1명 숨져\n",
            "[문화현장] 수리남 장악한 한국인 마약왕 체포기…'수리남'\n",
            "한 달 넘게 과외 중학생 160회 폭행한 대학생…CCTV 다수 확보\n",
            "12년 만에 빛 본 '오겜'…이정재 \"가장 어려웠던 캐릭터\"\n",
            "태풍 난마돌 대한해협 지날까…\"일본 규슈 상륙 가능성 커\"\n",
            "[영상] 울산서 검거된 '뉴질랜드 경매 가방 속 시신' 용의자…\"아이들 친모 유력\"\n",
            "뉴질랜드 '가방 속 아이 시신' 친모 추정 용의자, 혐의 부인\n",
            "미국 이어 영국도 \"러, 재고부족에 북한서 무기 조달\"\n",
            "'최저 연 3%대 고정금리' 안심전환대출, 오늘부터 신청\n",
            "제14호 태풍 난마돌 북상…다음 주 제주도 해상으로\n",
            "[날씨] '서울 30도' 낮 더위, 큰 일교차…태풍 '난마돌' 북상\n",
            "네이버 · 쿠팡서 면세품 살 수 있다…입국 수령도 가능\n"
          ]
        }
      ],
      "source": [
        "!pip install beautifulsoup4\n",
        "!pip install requests\n",
        "import requests\n",
        "from bs4 import BeautifulSoup as bs \n",
        "page = requests.get(\"https://media.naver.com/press/055/ranking?type=popular\")\n",
        "soup = bs(page.text, \"html.parser\")\n",
        "news =  soup.findAll('strong', {\"class\":\"list_title\"})\n",
        "for n in news :\n",
        "  print(n.text)"
      ]
    },
    {
      "cell_type": "code",
      "source": [
        "import requests\n",
        "from bs4 import BeautifulSoup as bs \n",
        "page = requests.get(\"\")\n",
        "soup = bs(page.text, \"html.parser\")\n",
        "news =  soup.findAll('dl', {\"class\":\"lst_infor _cs_fortune_list\"})\n",
        "for n in news :\n",
        "  print(n.text)"
      ],
      "metadata": {
        "id": "ifSKzukutRd8"
      },
      "execution_count": null,
      "outputs": []
    },
    {
      "cell_type": "code",
      "source": [
        "from "
      ],
      "metadata": {
        "id": "XnG_DYUA8lfP"
      },
      "execution_count": null,
      "outputs": []
    }
  ]
}