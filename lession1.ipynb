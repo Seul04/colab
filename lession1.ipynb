{
  "nbformat": 4,
  "nbformat_minor": 0,
  "metadata": {
    "colab": {
      "name": "lession1.ipynb",
      "provenance": [],
      "authorship_tag": "ABX9TyNNJbkBIrBFOc3tmENHLIWa",
      "include_colab_link": true
    },
    "kernelspec": {
      "name": "python3",
      "display_name": "Python 3"
    },
    "language_info": {
      "name": "python"
    }
  },
  "cells": [
    {
      "cell_type": "markdown",
      "metadata": {
        "id": "view-in-github",
        "colab_type": "text"
      },
      "source": [
        "<a href=\"https://colab.research.google.com/github/Seul04/colab/blob/main/lession1.ipynb\" target=\"_parent\"><img src=\"https://colab.research.google.com/assets/colab-badge.svg\" alt=\"Open In Colab\"/></a>"
      ]
    },
    {
      "cell_type": "markdown",
      "source": [
        "파이썬 프로그래밍 1장"
      ],
      "metadata": {
        "id": "KjkEP58Rozs9"
      }
    },
    {
      "cell_type": "code",
      "execution_count": null,
      "metadata": {
        "id": "i7IT55FuloiG"
      },
      "outputs": [],
      "source": [
        "print(\"안산공고 컴퓨터과 3학년 2반 17번 이한슬\")"
      ]
    },
    {
      "cell_type": "code",
      "source": [
        "print(\"내일은 즐거운 졸업여행\")\n",
        "print(\"준비물 잘 챙기자\")\n",
        "print(\"다치지말고 재미있게 놀다 오자. :)\")"
      ],
      "metadata": {
        "colab": {
          "base_uri": "https://localhost:8080/"
        },
        "id": "w7yRS9Q4pfNq",
        "outputId": "7211100e-0e6f-45ae-cd38-4c8d142cb21e"
      },
      "execution_count": 1,
      "outputs": [
        {
          "output_type": "stream",
          "name": "stdout",
          "text": [
            "내일은 즐거운 졸업여행\n",
            "준비물 잘 챙기자\n",
            "다치지말고 재미있게 놀다 오자. :)\n"
          ]
        }
      ]
    }
  ]
}