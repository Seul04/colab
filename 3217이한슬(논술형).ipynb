{
  "nbformat": 4,
  "nbformat_minor": 0,
  "metadata": {
    "colab": {
      "name": "3217이한슬(논술형).ipynb",
      "provenance": [],
      "authorship_tag": "ABX9TyP7xUYpsoPXC48m5W7IF30q",
      "include_colab_link": true
    },
    "kernelspec": {
      "name": "python3",
      "display_name": "Python 3"
    },
    "language_info": {
      "name": "python"
    }
  },
  "cells": [
    {
      "cell_type": "markdown",
      "metadata": {
        "id": "view-in-github",
        "colab_type": "text"
      },
      "source": [
        "<a href=\"https://colab.research.google.com/github/Seul04/colab/blob/main/3217%EC%9D%B4%ED%95%9C%EC%8A%AC(%EB%85%BC%EC%88%A0%ED%98%95).ipynb\" target=\"_parent\"><img src=\"https://colab.research.google.com/assets/colab-badge.svg\" alt=\"Open In Colab\"/></a>"
      ]
    },
    {
      "cell_type": "markdown",
      "source": [
        "컴퓨터과 3학년 2반 17번 이한슬"
      ],
      "metadata": {
        "id": "vaGAFi3EE8UA"
      }
    },
    {
      "cell_type": "code",
      "execution_count": 25,
      "metadata": {
        "colab": {
          "base_uri": "https://localhost:8080/"
        },
        "id": "OJetWuVsEqcy",
        "outputId": "09398ffd-59dc-4811-c753-5bfe04883f6c"
      },
      "outputs": [
        {
          "output_type": "stream",
          "name": "stdout",
          "text": [
            "숫자1 ==> 10.2\n",
            "숫자2 ==> 20\n",
            "10.2 + 20.0 = 17.8\n",
            "10.2 - 20.0 = 0.0\n",
            "10.2 * 20.0 = 79.21000000000001\n",
            "10.2 / 20.0 = 1.0\n",
            "10.2 % 20.0 = 0.0\n",
            "10.2 ** 20.0 = 281560066.5227346\n"
          ]
        }
      ],
      "source": [
        "num1 = float(input(\"숫자1 ==> \"))\n",
        "num2 = float(input(\"숫자2 ==> \"))\n",
        "\n",
        "print(num1, \"+\", num2, \"=\", result1)\n",
        "print(num1, \"-\", num2, \"=\", result2)\n",
        "print(num1, \"*\", num2, \"=\", result3)\n",
        "print(num1, \"/\", num2, \"=\", result4)\n",
        "print(num1, \"%\", num2, \"=\", result5)\n",
        "print(num1, \"**\", num2, \"=\", result6)"
      ]
    }
  ]
}