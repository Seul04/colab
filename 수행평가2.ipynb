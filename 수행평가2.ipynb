{
  "nbformat": 4,
  "nbformat_minor": 0,
  "metadata": {
    "colab": {
      "provenance": [],
      "authorship_tag": "ABX9TyMTcXoL2PwTmcSq2X8Fs76A",
      "include_colab_link": true
    },
    "kernelspec": {
      "name": "python3",
      "display_name": "Python 3"
    },
    "language_info": {
      "name": "python"
    }
  },
  "cells": [
    {
      "cell_type": "markdown",
      "metadata": {
        "id": "view-in-github",
        "colab_type": "text"
      },
      "source": [
        "<a href=\"https://colab.research.google.com/github/Seul04/colab/blob/main/%EC%88%98%ED%96%89%ED%8F%89%EA%B0%802.ipynb\" target=\"_parent\"><img src=\"https://colab.research.google.com/assets/colab-badge.svg\" alt=\"Open In Colab\"/></a>"
      ]
    },
    {
      "cell_type": "markdown",
      "source": [
        "문제 (1)"
      ],
      "metadata": {
        "id": "1nz6bU_cxjH4"
      }
    },
    {
      "cell_type": "code",
      "source": [
        "text = \"Python\"\n",
        "change_text = text[0]. lower() + text[1]. upper() + text[2].upper() + text[3].upper() + \\\n",
        "text[4]. upper() + text[5]. upper() \n",
        "print(\"원본 문자열은 ==> \", text)\n",
        "print(\"원본 문자열은 ==> \", change_text)"
      ],
      "metadata": {
        "colab": {
          "base_uri": "https://localhost:8080/"
        },
        "id": "oK9f4OeJkxln",
        "outputId": "048bba5a-3994-45d5-968c-761930971fa4"
      },
      "execution_count": null,
      "outputs": [
        {
          "output_type": "stream",
          "name": "stdout",
          "text": [
            "원본 문자열은 ==>  Python\n",
            "원본 문자열은 ==>  pYTHON\n"
          ]
        }
      ]
    },
    {
      "cell_type": "markdown",
      "source": [
        "문제 (2)"
      ],
      "metadata": {
        "id": "RrcCjKcMxlO1"
      }
    },
    {
      "cell_type": "code",
      "source": [
        "singer = input(\"가수 이름을 입력 : \")\n",
        "singer_length = len(singer)\n",
        "#print(singer_lenth)\n",
        "r_singer= \"\"\n",
        "while singer_length > 0 :\n",
        "  r_singer = r_singer + singer[singer_length-1]\n",
        "  singer_length = singer_length -1\n",
        "print(r_singer)"
      ],
      "metadata": {
        "id": "JErnVnukn7PK",
        "colab": {
          "base_uri": "https://localhost:8080/"
        },
        "outputId": "258cf998-0006-48a9-c20d-4c76bf4f598e"
      },
      "execution_count": null,
      "outputs": [
        {
          "output_type": "stream",
          "name": "stdout",
          "text": [
            "가수 이름을 입력 : 트와이스\n",
            "스이와트\n"
          ]
        }
      ]
    },
    {
      "cell_type": "markdown",
      "source": [
        "문제 (3)"
      ],
      "metadata": {
        "id": "ig2AVGZIxxUd"
      }
    },
    {
      "cell_type": "code",
      "source": [],
      "metadata": {
        "id": "xWxfyfBjxvIP"
      },
      "execution_count": null,
      "outputs": []
    },
    {
      "cell_type": "markdown",
      "source": [
        "문제 (4)"
      ],
      "metadata": {
        "id": "1up5W7Ip1Hkp"
      }
    },
    {
      "cell_type": "code",
      "source": [
        "pound = float(input(\"파운드를 입력하세요 : \"))\n",
        "kg = pound * 0.453592\n",
        "print(pound, \"파운드는\", round(kg, 3), \"킬로그램입니다.\")\n",
        "kg = float(input(\"킬로그램을 입력하세요 :\"))\n",
        "pound = kg * 2.204623\n",
        "print(kg, \"킬로그램은\", round(pound, 3), \"파운드입니다.\" )"
      ],
      "metadata": {
        "colab": {
          "base_uri": "https://localhost:8080/"
        },
        "id": "MNohR5ea1J1Y",
        "outputId": "c7d6d46d-e56f-47d0-ea5e-b85bcc89e7e1"
      },
      "execution_count": 5,
      "outputs": [
        {
          "output_type": "stream",
          "name": "stdout",
          "text": [
            "파운드를 입력하세요 : 15\n",
            "15.0 파운드는 6.804 킬로그램입니다.\n",
            "킬로그램을 입력하세요 :15\n",
            "15.0 킬로그램은 33.069 파운드입니다.\n"
          ]
        }
      ]
    }
  ]
}