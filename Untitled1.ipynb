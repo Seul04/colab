{
  "nbformat": 4,
  "nbformat_minor": 0,
  "metadata": {
    "colab": {
      "name": "Untitled1.ipynb",
      "provenance": [],
      "authorship_tag": "ABX9TyNpGU/+NkQ21nxFcqWyVZ1U",
      "include_colab_link": true
    },
    "kernelspec": {
      "name": "python3",
      "display_name": "Python 3"
    },
    "language_info": {
      "name": "python"
    }
  },
  "cells": [
    {
      "cell_type": "markdown",
      "metadata": {
        "id": "view-in-github",
        "colab_type": "text"
      },
      "source": [
        "<a href=\"https://colab.research.google.com/github/Seul04/colab/blob/main/Untitled1.ipynb\" target=\"_parent\"><img src=\"https://colab.research.google.com/assets/colab-badge.svg\" alt=\"Open In Colab\"/></a>"
      ]
    },
    {
      "cell_type": "code",
      "execution_count": null,
      "metadata": {
        "id": "IlnBR4eC8D_Q"
      },
      "outputs": [],
      "source": [
        "2022학년도 응용프로그래밍 개발-논술형\n",
        "컴퓨터과 3학년 1반 1번 강민규\n"
      ]
    },
    {
      "cell_type": "code",
      "source": [
        "num1 = int(input(\"첫번째 숫자를 입력하시오 : \"))\n",
        "num2 = int(input(\"두번째 숫자를 입력하시오 : \"))\n",
        "result1 = num1 + num2  \n",
        "result2 = num1 - num2 \n",
        "result3 = num1 * num2  \n",
        "result4 = num1 / num2 \n",
        "result5 = num1 % num2\n",
        "result6 = num1 ** num2\n",
        "\n",
        "print(num1 \"+\", num2 \"=\", result1)\n",
        "print(num1 \"-\", num2 \"=\", result2)\n",
        "print(num1 \"*\", num2 \"=\", result3)  \n",
        "print(num1 \"/\", num2 \"=\", result4)\n",
        "print(num1 \"%\", num2 \"=\", result5)\n",
        "print(num1 \"**\", num2 \"=\", result6)\n",
        "\n"
      ],
      "metadata": {
        "colab": {
          "base_uri": "https://localhost:8080/",
          "height": 136
        },
        "id": "VdCMKUkF8Q71",
        "outputId": "4e37885a-6187-4df0-9931-8cc5d2212cb8"
      },
      "execution_count": 17,
      "outputs": [
        {
          "output_type": "error",
          "ename": "SyntaxError",
          "evalue": "ignored",
          "traceback": [
            "\u001b[0;36m  File \u001b[0;32m\"<ipython-input-17-c44bd6a47e7d>\"\u001b[0;36m, line \u001b[0;32m10\u001b[0m\n\u001b[0;31m    print(num1 \"+\", num2 \"=\", result1)\u001b[0m\n\u001b[0m                 ^\u001b[0m\n\u001b[0;31mSyntaxError\u001b[0m\u001b[0;31m:\u001b[0m invalid syntax\n"
          ]
        }
      ]
    }
  ]
}